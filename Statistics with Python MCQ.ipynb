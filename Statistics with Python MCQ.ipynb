{
 "cells": [
  {
   "cell_type": "markdown",
   "id": "e3456fab",
   "metadata": {},
   "source": [
    "## Given the normal distribution of test completion times with a mean of 65 minutes and a standard deviation of 23 minutes, which snippet of code will correctly calculate the probability that a completion time will be between 40 and 100 minutes."
   ]
  },
  {
   "cell_type": "code",
   "execution_count": 1,
   "id": "9137fcdf",
   "metadata": {},
   "outputs": [
    {
     "name": "stdout",
     "output_type": "stream",
     "text": [
      "Probability of completion time between 40 and 100 minutes: 0.7974347581412062\n"
     ]
    }
   ],
   "source": [
    "from scipy.stats import norm\n",
    "\n",
    "# Define the mean and standard deviation\n",
    "mean = 65\n",
    "std_dev = 23\n",
    "\n",
    "# Calculate the probability for the lower and upper bounds\n",
    "lower_bound_prob = norm.cdf(40, mean, std_dev)\n",
    "upper_bound_prob = norm.cdf(100, mean, std_dev)\n",
    "\n",
    "# Calculate the total probability between the bounds\n",
    "total_probability = upper_bound_prob - lower_bound_prob\n",
    "\n",
    "# Print the probability\n",
    "print(\"Probability of completion time between 40 and 100 minutes:\", total_probability)\n",
    "# probability = norm.cdf(100, mean, std_dev) - norm.cdf(40, mean, std_dev)\n"
   ]
  },
  {
   "cell_type": "markdown",
   "id": "68f9a8f2",
   "metadata": {},
   "source": [
    "## Match the data types with their examples and choose the correct combination:\n",
    "\n",
    "\n",
    "# Example data\n",
    "lap_times = [92.9, 93.5, 91.6] # List of lap times in seconds\n",
    "doctors_kept_away = 3 # Number of doctors an apple keeps away\n",
    "race_position = \"Second\" # Finishing position in a relay race\n",
    "gender = \"Female\" # String describing genders\n",
    "\n",
    "i) lap_times are a continuous data type.\n",
    "\n",
    "ii) doctors_kept_away is a discrete variable.\n",
    "\n",
    "iii) race_position nominal data type.\n",
    "\n",
    "iv) gender is a nominal variable."
   ]
  },
  {
   "cell_type": "code",
   "execution_count": 6,
   "id": "9ca11569",
   "metadata": {},
   "outputs": [],
   "source": [
    "##Answer = (i, ii,iii,iv)"
   ]
  },
  {
   "cell_type": "markdown",
   "id": "2bdc7cdd",
   "metadata": {},
   "source": [
    "## Fill in the missing inputs in the following code for plotting a normal probability density function, with mean = 0 and variance = 2:\n",
    "\n",
    "import numpy as np\n",
    "import matplotlib.pyplot as plt\n",
    "from scipy.stats import norm\n",
    "%matplotlib inline\n",
    "\n",
    "mu = 0\n",
    "variance = 2\n",
    "\n",
    "sigma = np.<Missing code>(variance),\n",
    "x = np.linspace(mu-3*variance, mu+3*variance, 100)\n",
    "plt.plot(<Missing code>, <Missing code>.pdf(x, mu, sigma))\n"
   ]
  },
  {
   "cell_type": "code",
   "execution_count": 8,
   "id": "8f1452da",
   "metadata": {},
   "outputs": [
    {
     "data": {
      "image/png": "[encoded data removed]",
      "text/plain": [
       "<Figure size 640x480 with 1 Axes>"
      ]
     },
     "metadata": {},
     "output_type": "display_data"
    }
   ],
   "source": [
    "import numpy as np\n",
    "import matplotlib.pyplot as plt\n",
    "from scipy.stats import norm\n",
    "%matplotlib inline\n",
    "\n",
    "mu = 0\n",
    "variance = 2\n",
    "\n",
    "sigma = np.sqrt(variance)  # Calculate standard deviation from variance\n",
    "x = np.linspace(mu - 3 * sigma, mu + 3 * sigma, 100)  # Create evenly spaced values for x-axis\n",
    "plt.plot(x, norm.pdf(x, mu, sigma))  # Plot the PDF using norm.pdf\n",
    "plt.show()  # Display the plotted PDF\n",
    "#sqrt, norm, x\n"
   ]
  },
  {
   "cell_type": "markdown",
   "id": "76ab80a7",
   "metadata": {},
   "source": [
    "## In Python, you have data representing a population with a mean (µ) of 50 and a standard deviation (σ) of 16. You draw a random sample of size n = 64. Write a Python snippet to calculate the standard deviation of the sample mean (\\bar{X}) and choose the correct output."
   ]
  },
  {
   "cell_type": "code",
   "execution_count": 9,
   "id": "4f0a3a6a",
   "metadata": {},
   "outputs": [
    {
     "name": "stdout",
     "output_type": "stream",
     "text": [
      "The standard deviation of the sample mean is approximately 2.00.\n"
     ]
    }
   ],
   "source": [
    "import numpy as np\n",
    "\n",
    "# Population parameters\n",
    "mu = 50\n",
    "sigma = 16\n",
    "\n",
    "# Sample size\n",
    "n = 64\n",
    "\n",
    "# Calculate standard deviation of the sample mean\n",
    "std_err = sigma / np.sqrt(n)\n",
    "\n",
    "# Choose the correct output\n",
    "output = f\"The standard deviation of the sample mean is approximately {std_err:.2f}.\"\n",
    "\n",
    "print(output)\n"
   ]
  },
  {
   "cell_type": "markdown",
   "id": "c35ac63a",
   "metadata": {},
   "source": [
    "## Given the Python code snippet below, complete the code, identify the correct null hypothesis (H_O), and state whether it is rejected based on the results from the code output:\n",
    "\n",
    "import numpy as np\n",
    "from scipy import stats\n",
    "\n",
    "student_scores = np.array([55, 62, 67, 58, 63, 59, 61, 68, 60, 64])\n",
    "mu = 60\n",
    "x_bar = np.mean(student_scores)\n",
    "s = np.std(student_scores, ddof=1)\n",
    "n = len(student_scores)\n",
    "alpha = 0.05\n",
    "<COMPLETE> = (x_bar - mu) / (s / np.sqrt(n))\n",
    "<COMPLETE> = stats.t.cdf(t_stat, df=n-1) if t_stat < 0 else (1 - stats.t.cdf(t_stat, df=n-1))\n",
    "<COMPLETE>*=2\n",
    "\n",
    "print(\"T statistic:\", t_stat)\n",
    "print(\"P-value:\", p_value)"
   ]
  },
  {
   "cell_type": "code",
   "execution_count": 10,
   "id": "e1fdc610",
   "metadata": {},
   "outputs": [
    {
     "name": "stdout",
     "output_type": "stream",
     "text": [
      "T statistic: 1.343501592923275\n",
      "P-value: 0.21200020507950157\n"
     ]
    }
   ],
   "source": [
    "import numpy as np\n",
    "from scipy import stats\n",
    "\n",
    "student_scores = np.array([55, 62, 67, 58, 63, 59, 61, 68, 60, 64])\n",
    "mu = 60\n",
    "x_bar = np.mean(student_scores)\n",
    "s = np.std(student_scores, ddof=1)\n",
    "n = len(student_scores)\n",
    "alpha = 0.05\n",
    "\n",
    "# Calculate t-statistic\n",
    "t_stat = (x_bar - mu) / (s / np.sqrt(n))\n",
    "\n",
    "# Calculate p-value\n",
    "p_value = stats.t.cdf(t_stat, df=n-1) if t_stat < 0 else (1 - stats.t.cdf(t_stat, df=n-1))\n",
    "p_value *= 2\n",
    "\n",
    "print(\"T statistic:\", t_stat)\n",
    "print(\"P-value:\", p_value)\n"
   ]
  },
  {
   "cell_type": "code",
   "execution_count": 11,
   "id": "817ec531",
   "metadata": {},
   "outputs": [],
   "source": [
    "# the p-value is greater than 0.05 therefore we fail to reject h0\n",
    "#The null hypothesis, that the mean test score is equal to 60, is not rejected."
   ]
  },
  {
   "cell_type": "markdown",
   "id": "186611d7",
   "metadata": {},
   "source": [
    "## What distribution is used when the sample size (n) is small and/or when the population standard deviation is unknown?"
   ]
  },
  {
   "cell_type": "code",
   "execution_count": 12,
   "id": "64a2ae38",
   "metadata": {},
   "outputs": [],
   "source": [
    "##t-distribution"
   ]
  },
  {
   "cell_type": "markdown",
   "id": "78e7c853",
   "metadata": {},
   "source": [
    "## Foodland shoppers have a mean grocery bill of R370 with a standard deviation of R100. What is the probability that a sample of 40 Foodland shoppers will have a mean grocery bill of over R400?"
   ]
  },
  {
   "cell_type": "code",
   "execution_count": 14,
   "id": "df085cfc",
   "metadata": {},
   "outputs": [],
   "source": [
    "# 0.029"
   ]
  },
  {
   "cell_type": "markdown",
   "id": "069b77b4",
   "metadata": {},
   "source": [
    "## Assuming the number of customers arriving at a cafe per hour follows a Poisson distribution with a mean (λ) of 8, what is the probability of serving exactly 6 customers in an hour? Use Python's scipy.stats.poisson module for the calculation."
   ]
  },
  {
   "cell_type": "code",
   "execution_count": 15,
   "id": "2d63961c",
   "metadata": {},
   "outputs": [
    {
     "name": "stdout",
     "output_type": "stream",
     "text": [
      "Probability of serving exactly 6 customers in an hour: 0.12213821545677205\n"
     ]
    }
   ],
   "source": [
    "from scipy.stats import poisson\n",
    "\n",
    "# Mean (λ) of the Poisson distribution\n",
    "lambda_ = 8\n",
    "\n",
    "# Number of customers we want to serve\n",
    "k = 6\n",
    "\n",
    "# Calculate the probability using the pmf (probability mass function)\n",
    "probability = poisson.pmf(k, lambda_)\n",
    "\n",
    "print(\"Probability of serving exactly 6 customers in an hour:\", probability)\n"
   ]
  },
  {
   "cell_type": "markdown",
   "id": "beb616f5",
   "metadata": {},
   "source": [
    "## Given a population with a mean of 100 and a standard deviation of 15, you sample 30 items. What is the probability that the sample mean will be less than 95? Use Python's scipy.stats.norm module to calculate the probability."
   ]
  },
  {
   "cell_type": "code",
   "execution_count": 16,
   "id": "ba1bb92a",
   "metadata": {},
   "outputs": [
    {
     "name": "stdout",
     "output_type": "stream",
     "text": [
      "Probability that the sample mean will be less than 95: 0.033944577430914495\n"
     ]
    }
   ],
   "source": [
    "from scipy.stats import norm\n",
    "\n",
    "# Population parameters\n",
    "population_mean = 100\n",
    "population_stddev = 15\n",
    "\n",
    "# Sample parameters\n",
    "sample_size = 30\n",
    "\n",
    "# Calculate the standard error of the mean (SEM)\n",
    "sem = population_stddev / (sample_size ** 0.5)\n",
    "\n",
    "# Calculate the Z-score for the sample mean of 95\n",
    "z_score = (95 - population_mean) / sem\n",
    "\n",
    "# Calculate the probability using the cumulative distribution function (CDF)\n",
    "probability = norm.cdf(z_score)\n",
    "\n",
    "print(\"Probability that the sample mean will be less than 95:\", probability)\n"
   ]
  },
  {
   "cell_type": "code",
   "execution_count": null,
   "id": "f62484e3",
   "metadata": {},
   "outputs": [],
   "source": []
  }
 ],
 "metadata": {
  "kernelspec": {
   "display_name": "Python 3 (ipykernel)",
   "language": "python",
   "name": "python3"
  },
  "language_info": {
   "codemirror_mode": {
    "name": "ipython",
    "version": 3
   },
   "file_extension": ".py",
   "mimetype": "text/x-python",
   "name": "python",
   "nbconvert_exporter": "python",
   "pygments_lexer": "ipython3",
   "version": "3.11.5"
  }
 },
 "nbformat": 4,
 "nbformat_minor": 5
}
